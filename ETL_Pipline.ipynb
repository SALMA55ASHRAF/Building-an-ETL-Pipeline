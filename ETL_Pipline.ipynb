{
 "cells": [
  {
   "cell_type": "markdown",
   "id": "f821167e-eb60-48a9-bc1b-cdee4cee50db",
   "metadata": {},
   "source": [
    "![](https://miro.medium.com/v2/resize:fit:1100/format:webp/1*JLDS6QzmL3vMSu17doQJxg.png)"
   ]
  },
  {
   "cell_type": "code",
   "execution_count": 1,
   "id": "4c097cb5-dcca-4a31-8e7b-b87043cc7f1f",
   "metadata": {},
   "outputs": [],
   "source": [
    "import pandas as pd \n",
    "import sqlalchemy\n",
    "import logging\n",
    "logging.basicConfig(format='%(levelname)s:%(message)s',level=logging.DEBUG)\n",
    "df=pd.read_parquet(\"export_1737321273129.parquet\")"
   ]
  },
  {
   "cell_type": "code",
   "execution_count": 2,
   "id": "f9a10b54-4ec6-49da-a6e4-cc8208e0e20a",
   "metadata": {},
   "outputs": [
    {
     "data": {
      "text/html": [
       "<div>\n",
       "<style scoped>\n",
       "    .dataframe tbody tr th:only-of-type {\n",
       "        vertical-align: middle;\n",
       "    }\n",
       "\n",
       "    .dataframe tbody tr th {\n",
       "        vertical-align: top;\n",
       "    }\n",
       "\n",
       "    .dataframe thead th {\n",
       "        text-align: right;\n",
       "    }\n",
       "</style>\n",
       "<table border=\"1\" class=\"dataframe\">\n",
       "  <thead>\n",
       "    <tr style=\"text-align: right;\">\n",
       "      <th></th>\n",
       "      <th>Date</th>\n",
       "      <th>LTP</th>\n",
       "      <th>Open</th>\n",
       "      <th>High</th>\n",
       "      <th>Low</th>\n",
       "      <th>Quantity</th>\n",
       "      <th>Turnover</th>\n",
       "      <th>Change</th>\n",
       "    </tr>\n",
       "  </thead>\n",
       "  <tbody>\n",
       "    <tr>\n",
       "      <th>0</th>\n",
       "      <td>2011-03-25</td>\n",
       "      <td>135</td>\n",
       "      <td>133</td>\n",
       "      <td>135</td>\n",
       "      <td>132</td>\n",
       "      <td>2560</td>\n",
       "      <td>342820</td>\n",
       "      <td>-2</td>\n",
       "    </tr>\n",
       "    <tr>\n",
       "      <th>1</th>\n",
       "      <td>2011-03-27</td>\n",
       "      <td>134</td>\n",
       "      <td>135</td>\n",
       "      <td>135</td>\n",
       "      <td>134</td>\n",
       "      <td>2110</td>\n",
       "      <td>284040</td>\n",
       "      <td>1</td>\n",
       "    </tr>\n",
       "    <tr>\n",
       "      <th>2</th>\n",
       "      <td>2011-03-28</td>\n",
       "      <td>130</td>\n",
       "      <td>134</td>\n",
       "      <td>134</td>\n",
       "      <td>130</td>\n",
       "      <td>1288</td>\n",
       "      <td>169336</td>\n",
       "      <td>4</td>\n",
       "    </tr>\n",
       "    <tr>\n",
       "      <th>3</th>\n",
       "      <td>2011-03-29</td>\n",
       "      <td>127</td>\n",
       "      <td>130</td>\n",
       "      <td>129</td>\n",
       "      <td>127</td>\n",
       "      <td>1390</td>\n",
       "      <td>178760</td>\n",
       "      <td>3</td>\n",
       "    </tr>\n",
       "    <tr>\n",
       "      <th>4</th>\n",
       "      <td>2011-03-30</td>\n",
       "      <td>129</td>\n",
       "      <td>127</td>\n",
       "      <td>129</td>\n",
       "      <td>125</td>\n",
       "      <td>1261</td>\n",
       "      <td>161332</td>\n",
       "      <td>-2</td>\n",
       "    </tr>\n",
       "  </tbody>\n",
       "</table>\n",
       "</div>"
      ],
      "text/plain": [
       "         Date  LTP  Open  High  Low  Quantity  Turnover  Change\n",
       "0  2011-03-25  135   133   135  132      2560    342820      -2\n",
       "1  2011-03-27  134   135   135  134      2110    284040       1\n",
       "2  2011-03-28  130   134   134  130      1288    169336       4\n",
       "3  2011-03-29  127   130   129  127      1390    178760       3\n",
       "4  2011-03-30  129   127   129  125      1261    161332      -2"
      ]
     },
     "execution_count": 2,
     "metadata": {},
     "output_type": "execute_result"
    }
   ],
   "source": [
    "df.head()"
   ]
  },
  {
   "cell_type": "code",
   "execution_count": 3,
   "id": "07758b11-5619-434a-a1cb-f89e68d1eb21",
   "metadata": {},
   "outputs": [
    {
     "name": "stderr",
     "output_type": "stream",
     "text": [
      "INFO:Data Filtered Succefully\n"
     ]
    }
   ],
   "source": [
    "#cleaned_df=df.loc[df['Open']>0,[\"Date\",\"Open\",\"LTP\"]]\n",
    "try:\n",
    "    cleaned_df=df[df[\"Change\"]>0]\n",
    "    logging.info(\"Data Filtered Succefully\")\n",
    "except KeyError as ke:\n",
    "    logging.error(f\"keyerror : {ke} occured \")\n",
    "    df[\"Price\"]=df[\"LTP\"]-df[\"Open\"]\n",
    "    cleaned_df=df"
   ]
  },
  {
   "cell_type": "code",
   "execution_count": 4,
   "id": "e21171ad-7278-46ce-bf4c-6a9018ec5a60",
   "metadata": {},
   "outputs": [
    {
     "data": {
      "text/plain": [
       "(921, 8)"
      ]
     },
     "execution_count": 4,
     "metadata": {},
     "output_type": "execute_result"
    }
   ],
   "source": [
    "cleaned_df.shape"
   ]
  },
  {
   "cell_type": "code",
   "execution_count": 5,
   "id": "5b9e3fc3-ce0b-4d0c-af17-92b4697aeae3",
   "metadata": {},
   "outputs": [
    {
     "data": {
      "text/plain": [
       "(1991, 8)"
      ]
     },
     "execution_count": 5,
     "metadata": {},
     "output_type": "execute_result"
    }
   ],
   "source": [
    "df.shape"
   ]
  },
  {
   "cell_type": "code",
   "execution_count": 6,
   "id": "f414a648-42bd-42b4-bae9-1041d6612c23",
   "metadata": {},
   "outputs": [
    {
     "name": "stdout",
     "output_type": "stream",
     "text": [
      "<class 'pandas.core.frame.DataFrame'>\n",
      "Index: 921 entries, 1 to 1988\n",
      "Data columns (total 8 columns):\n",
      " #   Column    Non-Null Count  Dtype \n",
      "---  ------    --------------  ----- \n",
      " 0   Date      921 non-null    object\n",
      " 1   LTP       921 non-null    int64 \n",
      " 2   Open      921 non-null    int64 \n",
      " 3   High      921 non-null    int64 \n",
      " 4   Low       921 non-null    int64 \n",
      " 5   Quantity  921 non-null    int64 \n",
      " 6   Turnover  921 non-null    int64 \n",
      " 7   Change    921 non-null    int64 \n",
      "dtypes: int64(7), object(1)\n",
      "memory usage: 64.8+ KB\n"
     ]
    }
   ],
   "source": [
    "cleaned_df.info()"
   ]
  },
  {
   "cell_type": "code",
   "execution_count": 7,
   "id": "e491d1c6-74d2-4109-915f-54df6fc40fee",
   "metadata": {},
   "outputs": [
    {
     "name": "stderr",
     "output_type": "stream",
     "text": [
      "C:\\Users\\aboel\\AppData\\Local\\Temp\\ipykernel_12056\\807329691.py:1: SettingWithCopyWarning: \n",
      "A value is trying to be set on a copy of a slice from a DataFrame.\n",
      "Try using .loc[row_indexer,col_indexer] = value instead\n",
      "\n",
      "See the caveats in the documentation: https://pandas.pydata.org/pandas-docs/stable/user_guide/indexing.html#returning-a-view-versus-a-copy\n",
      "  cleaned_df[\"Date\"]=pd.to_datetime(cleaned_df[\"Date\"],format=\"%Y%m%d%H%M%S\")\n"
     ]
    }
   ],
   "source": [
    "cleaned_df[\"Date\"]=pd.to_datetime(cleaned_df[\"Date\"],format=\"%Y%m%d%H%M%S\")"
   ]
  },
  {
   "cell_type": "code",
   "execution_count": 8,
   "id": "69b6018a-c9d6-4b1f-8414-71796a1ae6fa",
   "metadata": {},
   "outputs": [
    {
     "name": "stdout",
     "output_type": "stream",
     "text": [
      "<class 'pandas.core.frame.DataFrame'>\n",
      "Index: 921 entries, 1 to 1988\n",
      "Data columns (total 8 columns):\n",
      " #   Column    Non-Null Count  Dtype         \n",
      "---  ------    --------------  -----         \n",
      " 0   Date      921 non-null    datetime64[ns]\n",
      " 1   LTP       921 non-null    int64         \n",
      " 2   Open      921 non-null    int64         \n",
      " 3   High      921 non-null    int64         \n",
      " 4   Low       921 non-null    int64         \n",
      " 5   Quantity  921 non-null    int64         \n",
      " 6   Turnover  921 non-null    int64         \n",
      " 7   Change    921 non-null    int64         \n",
      "dtypes: datetime64[ns](1), int64(7)\n",
      "memory usage: 64.8 KB\n"
     ]
    }
   ],
   "source": [
    "cleaned_df.info()"
   ]
  },
  {
   "cell_type": "markdown",
   "id": "7920dd59-2aba-4342-9a99-09ef1bccbffe",
   "metadata": {},
   "source": [
    "## Validating Data:\n",
    "\n",
    "It’s crucial to validate the transformation to ensure no important information is lost. Pandas provides methods like .nsmallest() and .nlargest() to inspect the smallest and largest values in the dataset."
   ]
  },
  {
   "cell_type": "code",
   "execution_count": 9,
   "id": "d6a63f9c-d7d2-4e30-ac03-b981179a8685",
   "metadata": {},
   "outputs": [
    {
     "name": "stdout",
     "output_type": "stream",
     "text": [
      "         Date  LTP  Open  High  Low  Quantity  Turnover  Change\n",
      "1  2011-03-27  134   135   135  134      2110    284040       1\n",
      "2  2011-03-28  130   134   134  130      1288    169336       4\n",
      "3  2011-03-29  127   130   129  127      1390    178760       3\n",
      "6  2011-04-04  131   132   132  126      2927    378740       1\n",
      "7  2011-04-05  128   131   130  126      1828    236055       3\n",
      "9  2011-04-07  128   131   130  126       825    105890       3\n",
      "12 2011-04-13  127   128   127  127        60      7620       1\n",
      "13 2011-04-17  125   127   127  125      1650    207460       2\n",
      "14 2011-04-18  122   125   126  121      2651    329486       3\n",
      "17 2011-04-21  124   126   128  123      2040    255070       2\n",
      "           Date  LTP  Open  High  Low  Quantity  Turnover  Change\n",
      "1988 2019-11-12  417   425   425  417     12550   5243574       8\n",
      "1985 2019-11-07  415   417   417  414     18305   7596806       2\n",
      "1982 2019-11-04  413   414   414  410     13907   5720752       1\n",
      "1979 2019-10-24  414   415   416  412      9027   3743021       1\n",
      "1978 2019-10-23  413   415   416  411      2992   1233519       2\n",
      "1973 2019-10-14  410   415   415  409     15531   6379450       5\n",
      "1970 2019-10-02  411   417   417  411      3711   1533696       6\n",
      "1966 2019-09-26  410   412   412  409     13312   5460769       2\n",
      "1961 2019-09-19  419   425   425  419     11420   4808885       6\n",
      "1958 2019-09-16  408   413   414  408     23477   9632318       5\n"
     ]
    }
   ],
   "source": [
    "print(cleaned_df.nsmallest(10,[\"Date\"]))\n",
    "print(cleaned_df.nlargest(10,[\"Date\"]))"
   ]
  },
  {
   "cell_type": "code",
   "execution_count": 10,
   "id": "c5054dba-5661-4801-a77a-a35cf5e5a9f5",
   "metadata": {},
   "outputs": [],
   "source": [
    "cleaned_df.to_csv(\"cleaned_stock_data.csv\",index=False)"
   ]
  },
  {
   "cell_type": "markdown",
   "id": "00e85df4-94db-447e-85bf-94f4409b3aac",
   "metadata": {},
   "source": [
    "# Monitoring and Logging the ETL Pipeline"
   ]
  },
  {
   "cell_type": "code",
   "execution_count": 11,
   "id": "c0dbc2e2-b59d-4fa2-924a-a1772bafb8dc",
   "metadata": {},
   "outputs": [],
   "source": [
    "import logging\n",
    "logging.basicConfig(format='%(levelname)s:%(message)s',level=logging.DEBUG)"
   ]
  },
  {
   "cell_type": "code",
   "execution_count": 12,
   "id": "8c2d6321-4705-4284-93e6-56ef2231e7a4",
   "metadata": {},
   "outputs": [
    {
     "name": "stderr",
     "output_type": "stream",
     "text": [
      "INFO:Data transformation is complete.\n",
      "WARNING:Unexpected number of rows detected.\n"
     ]
    }
   ],
   "source": [
    "# Example log messages\n",
    "logging.info(\"Data transformation is complete.\")\n",
    "logging.warning(\"Unexpected number of rows detected.\")"
   ]
  },
  {
   "cell_type": "code",
   "execution_count": null,
   "id": "ba276523-7c7f-4566-ad89-561670183594",
   "metadata": {},
   "outputs": [],
   "source": []
  }
 ],
 "metadata": {
  "kernelspec": {
   "display_name": "Python 3 (ipykernel)",
   "language": "python",
   "name": "python3"
  },
  "language_info": {
   "codemirror_mode": {
    "name": "ipython",
    "version": 3
   },
   "file_extension": ".py",
   "mimetype": "text/x-python",
   "name": "python",
   "nbconvert_exporter": "python",
   "pygments_lexer": "ipython3",
   "version": "3.12.4"
  }
 },
 "nbformat": 4,
 "nbformat_minor": 5
}
